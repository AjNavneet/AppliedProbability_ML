{
  "nbformat": 4,
  "nbformat_minor": 0,
  "metadata": {
    "colab": {
      "provenance": []
    },
    "kernelspec": {
      "name": "python3",
      "display_name": "Python 3"
    },
    "language_info": {
      "name": "python"
    }
  },
  "cells": [
    {
      "cell_type": "markdown",
      "source": [
        "# Probability Distributions\n",
        "\n",
        "- Probability isn't just about determining the chance of one specific event; it can also be used to summarize the likelihood of all possible outcomes.\n",
        "\n",
        "- In probability, we often talk about something called a \"random variable,\" which is simply an object of interest.\n",
        "  - The connection between each possible outcome for a random variable and their associated probabilities is known as a \"probability distribution.\"\n",
        "\n",
        "  - These distributions are a fundamental concept in probability, and you've probably encountered some of the common ones.\n",
        "\n",
        "  - The nature and characteristics of a probability distribution depend on the type of random variable it represents, which could be either continuous or discrete.\n",
        "\n",
        "  - This distinction influences how we describe the distribution and calculate the most probable outcome and its likelihood.\n",
        "\n",
        "In this tutorial, we'll provide a gentle introduction to probability distributions. By the end of it, you'll understand:\n",
        "\n",
        "- Random variables in probability come with a specific range and can be either continuous or discrete.\n",
        "\n",
        "- Probability distributions help us summarize the connection between possible values and their probabilities for a random variable.\n",
        "\n",
        "- Probability density or mass functions associate values with probabilities, and cumulative distribution functions associate outcomes less than or equal to a value with a probability.\n",
        "\n",
        "---\n"
      ],
      "metadata": {
        "id": "yRv71LlnpJeD"
      }
    },
    {
      "cell_type": "markdown",
      "source": [
        "# Random Variables\n",
        "\n",
        "- A **random variable** is a quantity that results from a random process. In probability, a random variable can assume one of several possible values, which can be events from the state space.\n",
        "  - Specific values or sets of values for a random variable can be assigned probabilities.\n",
        "\n",
        "- In probability modeling, we often consider example data or instances as events, observations, or realizations of underlying random variables.\n",
        "\n",
        "  > \"A random variable is often denoted as a capital letter, e.g. X, and values of the random variable are denoted as a lowercase letter and an index, e.g. x₁, x₂, x₃.\"\n",
        "  > — Page viii, *Probability: For the Enthusiastic Beginner*, 2016.\n",
        "\n",
        "- The values that a random variable can take are called its **domain**, and this domain can be either **discrete** or **continuous**.\n",
        "\n",
        "  > \"Variables in probability theory are called random variables, and their names begin with an uppercase letter. Every random variable has a domain — the set of possible values it can take on.\"\n",
        "  > — Page 486, *Artificial Intelligence: A Modern Approach*, 3rd edition, 2009.\n",
        "\n",
        "- **Discrete Random Variable**: Values are drawn from a finite set of states, for example, colors of a car.\n",
        "\n",
        "- **Boolean Random Variable**: Values are drawn from the set {true, false}, for example, a coin toss.\n",
        "\n",
        "- **Continuous Random Variable**: Values are drawn from a range of real-valued numerical values, for example, the height of humans.\n",
        "\n",
        "- A value of a random variable can be specified using an equals operator, for example, `X = True`.\n",
        "  - The probability of a random variable is denoted as a function using the uppercase 'P' or 'Pr'; for instance, `P(X)` represents the probability of all values for the random variable `X`.\n",
        "  - The probability of a specific value of a random variable can be denoted as `P(X = True)`, indicating the probability of the random variable `X` having the value `True`.\n",
        "\n",
        "---"
      ],
      "metadata": {
        "id": "unj3GpE7pZ95"
      }
    },
    {
      "cell_type": "markdown",
      "source": [
        "# Probability Distribution\n",
        "\n",
        "- A **probability distribution** is a way of summarizing the likelihood of different values for a random variable.\n",
        "  - Imagine arranging all the possible values of a random variable in a line, and then assigning each value a probability.\n",
        "  - This arrangement forms a distribution, which has specific properties we can measure.\n",
        "  - Two key properties are the **expected value** and the **variance**, often referred to as the first and second moments of the distribution.\n",
        "\n",
        "- **Expected Value**: This is the average or most likely value of a random variable.\n",
        "  - It's denoted as E[X] or E[f(x)] when we use a function to select values from the variable's range.\n",
        "\n",
        "- **Variance**: This tells us how the values of a random variable spread out from the average.\n",
        "  - The variance is usually represented as Var(X) or Var[f(x)]. The square root of the variance gives us the **standard deviation**.\n",
        "  - The relationship between two random variables is described by **covariance**, which summarizes how they change together.\n",
        "\n",
        "- In essence:\n",
        "\n",
        "  - **Expected Value**: The average value of a random variable.\n",
        "\n",
        "  - **Variance**: The average spread of values around the expected value.\n",
        "\n",
        "- Every random variable has its own probability distribution.\n",
        "  - Although many different random variables may have the same distribution shape, the specifics can vary.\n",
        "  - Common probability distributions are defined by a few parameters and come with procedures for calculating the expected value and variance.\n",
        "  - The structure of the distribution depends on whether the random variable is discrete or continuous.\n",
        "\n",
        "---\n"
      ],
      "metadata": {
        "id": "10rPyHNBpcEr"
      }
    },
    {
      "cell_type": "markdown",
      "source": [
        "# Discrete Probability Distributions\n",
        "\n",
        "- **Discrete probability distributions** summarize the likelihood of different outcomes for a discrete random variable. They are characterized by two main functions:\n",
        "\n",
        "  - **Probability Mass Function (PMF)**: This function assigns probabilities to specific values of a discrete random variable.\n",
        "\n",
        "  - **Cumulative Distribution Function (CDF)**: The CDF tells us the probability that the random variable will take a value less than or equal to a specific discrete value.\n",
        "\n",
        "- In some cases, the values of the random variable may not follow a clear order on a number line, like counts can, but car colors cannot.\n",
        "  - This can make the PMF and CDF structures discontinuous or lack a smooth transition in relative probabilities across values.\n",
        "\n",
        "- The **expected value** for a discrete random variable can be calculated by using the mode, which means finding the most common value. The sum of probabilities in the PMF always adds up to one.\n",
        "\n",
        "- Common examples of discrete probability distributions include:\n",
        "\n",
        "  - **Bernoulli and Binomial Distributions**\n",
        "  - **Multinoulli and Multinomial Distributions**\n",
        "  - **Poisson Distribution**\n",
        "\n",
        "- These distributions are often associated with specific domains:\n",
        "\n",
        "  - The probabilities of dice rolls form a **discrete uniform distribution**.\n",
        "  - The probabilities of coin flips form a **Bernoulli distribution**.\n",
        "  - The probabilities of car colors form a **multinomial distribution**.\n",
        "\n",
        "For a deeper understanding of discrete probability distributions, you can refer to Chapter 8.\n",
        "\n",
        "---\n",
        "\n",
        "\n"
      ],
      "metadata": {
        "id": "9H9FmRXapnMp"
      }
    },
    {
      "cell_type": "markdown",
      "source": [
        "# Continuous Probability Distributions\n",
        "\n",
        "- **Continuous probability distributions** describe the probability for a continuous random variable. They're characterized by two main functions:\n",
        "\n",
        "    - **Probability Distribution Function (PDF)**: This function defines the probability distribution for a continuous random variable.\n",
        "      - Unlike discrete random variables, which have a Probability Mass Function (PMF), continuous random variables use the PDF.\n",
        "\n",
        "- **Cumulative Distribution Function (CDF)**: The CDF tells us the probability that the random variable will take a value less than or equal to a specific numerical value from its domain.\n",
        "\n",
        "- In contrast to discrete distributions, continuous distributions are typically represented by smooth curves. Common examples of continuous probability distributions include:\n",
        "\n",
        "  - **Normal (Gaussian) Distribution**\n",
        "  - **Exponential Distribution**\n",
        "  - **Pareto Distribution**\n",
        "\n",
        "- These distributions are often associated with specific domains:\n",
        "\n",
        "  - The heights of humans follow a **Normal distribution**.\n",
        "  - The success of movies can follow a **Power-law distribution**.\n",
        "  - Income levels can follow a **Pareto distribution**.\n",
        "\n",
        "For a more detailed exploration of continuous probability distributions, you can refer to Chapter 9.\n",
        "\n",
        "\n",
        "---\n"
      ],
      "metadata": {
        "id": "vZWoYO1RpxHB"
      }
    },
    {
      "cell_type": "markdown",
      "source": [
        "# Further Reading\n",
        "\n",
        "## Books\n",
        "- [Probability Theory: The Logic of Science, 2003](https://amzn.to/2lnW2pp)\n",
        "- [Introduction to Probability, 2nd edition, 2019](https://amzn.to/2xPvobK)\n",
        "- [Probability: For the Enthusiastic Beginner, 2016](https://amzn.to/2jULJsu)\n",
        "\n",
        "## Articles\n",
        "- [Random variable, Wikipedia](https://en.wikipedia.org/wiki/Random_variable)\n",
        "- [Moment (mathematics), Wikipedia](https://en.wikipedia.org/wiki/Moment_(mathematics))\n",
        "- [Probability distribution, Wikipedia](https://en.wikipedia.org/wiki/Probability_distribution)\n",
        "- [List of probability distributions, Wikipedia](https://en.wikipedia.org/wiki/List_of_probability_distributions)\n",
        "\n",
        "---\n",
        "\n"
      ],
      "metadata": {
        "id": "evvsTVCQp4uQ"
      }
    },
    {
      "cell_type": "code",
      "source": [],
      "metadata": {
        "id": "qyAJxge9pUrl"
      },
      "execution_count": null,
      "outputs": []
    }
  ]
}