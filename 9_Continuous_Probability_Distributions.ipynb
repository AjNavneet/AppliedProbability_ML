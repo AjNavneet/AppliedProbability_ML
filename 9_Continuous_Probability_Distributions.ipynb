{
  "nbformat": 4,
  "nbformat_minor": 0,
  "metadata": {
    "colab": {
      "provenance": []
    },
    "kernelspec": {
      "name": "python3",
      "display_name": "Python 3"
    },
    "language_info": {
      "name": "python"
    }
  },
  "cells": [
    {
      "cell_type": "markdown",
      "source": [
        "# Continuous Probability Distributions\n",
        "\n",
        "- In machine learning, we deal with continuous random variables and use something called \"continuous probability distributions\" to understand their probabilities. These distributions are like tools that help us work with numbers in machine learning.\n",
        "\n",
        "- These distributions are super important because they show up when we work with machine learning models. They're all about how numbers are spread out and how errors happen.\n",
        "\n",
        "- One very important distribution is called the \"normal distribution.\" We use it a lot in machine learning, not just for modeling, but also for estimating things like density and parameters.\n",
        "\n",
        "In this tutorial, we'll learn about these continuous probability distributions that machine learning folks use. By the end, you'll know:\n",
        "\n",
        "- How we use continuous probability distributions to describe the chances of different outcomes for continuous random variables.\n",
        "\n",
        "- How to set up, define, and generate random numbers from these common continuous probability distributions.\n",
        "\n",
        "- How to create some fancy charts that show how likely different outcomes are for these distributions.\n",
        "\n",
        "---\n",
        "\n"
      ],
      "metadata": {
        "id": "Cfh5g9T9uRQs"
      }
    },
    {
      "cell_type": "markdown",
      "source": [
        "# Understanding Continuous Probability Distributions\n",
        "\n",
        "- A random variable is a number that comes from a random process. A continuous random variable is a number that can have any real value. Each possible number for a continuous random variable has a chance of happening. The relationship between these numbers and their chances is described using something called a \"continuous probability distribution.\" This distribution is summarized using a \"probability density function\" or PDF for short.\n",
        "\n",
        "- In contrast to random variables that take on distinct values, for a continuous random variable, you can't directly say what's the chance of getting a specific number. Instead, you have to calculate it by looking at the area under a curve for a tiny range around that number. The likelihood of getting a number less than or equal to a certain value is determined by the \"cumulative distribution function\" or CDF. The \"percentage-point function\" or PPF gives you a specific number that's less than or equal to a given chance.\n",
        "\n",
        "  - **PDF**: Probability Density Function, it tells you the chance of getting a specific number.\n",
        "\n",
        "  - **CDF**: Cumulative Distribution Function, it tells you the chance of getting a number less than or equal to a given value.\n",
        "\n",
        "  - **PPF**: Percent-Point Function, it gives you a specific number for a given chance.\n",
        "\n",
        "- There are many different kinds of these continuous probability distributions. The most common one is the normal distribution. Nearly all the probability distributions used in practice belong to a group called the \"exponential family of distributions.\" These are just different probability patterns that can change based on some specific numbers.\n",
        "\n",
        "- Continuous probability distributions are super important in machine learning. They help us understand how numbers are spread out in our models, how errors happen, and even how models work when they're trying to understand the relationship between inputs and outputs. In the upcoming sections, we'll dive into some of these common continuous probability distributions.\n",
        "\n",
        "---"
      ],
      "metadata": {
        "id": "Gn9xDac_uYlf"
      }
    },
    {
      "cell_type": "markdown",
      "source": [
        "# Normal Distribution\n",
        "\n",
        "- The normal distribution is also known as the Gaussian distribution, named after Carl Friedrich Gauss. It's often called the bell curve distribution because it looks like a bell shape. This distribution helps us understand the likelihood of real-valued events in various areas, making it very common and well-known.\n",
        "\n",
        "- A continuous random variable that follows a normal distribution is simply called \"normal\" or \"normally distributed.\" You can find examples of this in things like:\n",
        "\n",
        "  - The heights of people.\n",
        "  - The weights of babies.\n",
        "  - Test scores.\n",
        "\n",
        "- This distribution is defined using two things:\n",
        "\n",
        "  - **Mean (μ)**: This is like the expected value.\n",
        "  - **Standard Deviation (σ)**: It tells us how spread out the numbers are from the mean. Often, people use the square root of the standard deviation, which is the standard deviation's average value.\n",
        "\n",
        "- When the mean is 0, and the standard deviation is 1, we call it a \"standard normal distribution.\" People often use this for analysis to make things easier to understand and compare. You can set a distribution with a mean of 50 and a standard deviation of 5 and then get random numbers from it.\n",
        "\n",
        "- You can do this using a function called `normal()` in a library called NumPy. Here's an example that prints 10 numbers from this distribution:\n",
        "\n"
      ],
      "metadata": {
        "id": "f6U16YOpuxQa"
      }
    },
    {
      "cell_type": "code",
      "source": [
        "from numpy.random import normal\n",
        "mu = 50\n",
        "sigma = 5\n",
        "n = 10\n",
        "sample = normal(mu, sigma, n)\n",
        "print(sample)"
      ],
      "metadata": {
        "id": "iogu0PY7um8e"
      },
      "execution_count": null,
      "outputs": []
    },
    {
      "cell_type": "markdown",
      "source": [
        "- his code will show 10 random numbers from your defined normal distribution.\n",
        "\n",
        "- You can check if your data follows a normal distribution by plotting it or using some statistical tests. If it does, you can summarize it with just the mean and variance. You can calculate the probability of each observation using the probability density function. A plot of these values will show that classic bell curve shape.\n",
        "\n",
        "- You can also define a normal distribution using the `norm()` function from the SciPy library and then calculate things like the moments, PDF, CDF, and more. The following example calculates the probability for integer values between 30 and 70 in the distribution and creates a plot. It also shows the cumulative probability."
      ],
      "metadata": {
        "id": "1GT3rFmfu2VK"
      }
    },
    {
      "cell_type": "code",
      "source": [
        "from scipy.stats import norm\n",
        "from matplotlib import pyplot\n",
        "mu = 50\n",
        "sigma = 5\n",
        "dist = norm(mu, sigma)\n",
        "values = [value for value in the range(30, 70)]\n",
        "probabilities = [dist.pdf(value) for value in values]\n",
        "pyplot.plot(values, probabilities)\n",
        "pyplot.show()\n",
        "cprobs = [dist.cdf(value) for value in values]\n",
        "pyplot.plot(values, cprobs)\n",
        "pyplot.show()"
      ],
      "metadata": {
        "id": "apx3HaDYu5IU"
      },
      "execution_count": null,
      "outputs": []
    },
    {
      "cell_type": "markdown",
      "source": [
        "- The first plot will show a bell-shaped curve with the peak at the mean (50). The second plot will show that around the mean, about 50% of the expected values are covered.\n",
        "\n",
        "- The normal distribution has a rule of thumb called the \"68-95-99.7 rule,\" which tells you the percentage of data within 1, 2, and 3 standard deviations from the mean. For example, in a distribution with a mean of 50 and a standard deviation of 5, you'd expect 95% of the data to be between 40 and 60. You can confirm this using the \"percentage-point function.\"\n",
        "\n",
        "- Here's how to calculate the values that define the middle 95%:"
      ],
      "metadata": {
        "id": "pbim9vYku7Qx"
      }
    },
    {
      "cell_type": "code",
      "source": [
        "low_end = dist.ppf(0.025)\n",
        "high_end = dist.ppf(0.975)\n",
        "print('Middle 95% between %.1f and %.1f' % (low_end, high_end))\n"
      ],
      "metadata": {
        "id": "uN2h-E5Iu-g6"
      },
      "execution_count": null,
      "outputs": []
    },
    {
      "cell_type": "markdown",
      "source": [
        "- This code will tell you that the middle 95% is roughly between 40.2 and 59.8.\n",
        "\n",
        "- An important related distribution is the Log-Normal probability distribution.\n",
        "\n",
        "---\n"
      ],
      "metadata": {
        "id": "tHIZdnklvDdk"
      }
    },
    {
      "cell_type": "markdown",
      "source": [
        "# Exponential Distribution\n",
        "\n",
        "- The exponential distribution is a way to understand how likely certain events are, where only a few outcomes are very likely, and the probability drops quickly for other outcomes. It's like the continuous version of the geometric probability distribution for situations with discrete random variables. You can find it in areas like:\n",
        "\n",
        "  - The time between clicks on a Geiger counter.\n",
        "  - The time it takes for a part to fail.\n",
        "  - The time until a loan defaults.\n",
        "\n",
        "- You can describe this distribution with just one thing:\n",
        "\n",
        "  - **Scale (β)**: This represents the average and how spread out the distribution is. Sometimes, you might see it described with a parameter called lambda (λ), which tells you how quickly the distribution changes. Beta (β) is just 1 divided by lambda (β = 1/λ).\n",
        "\n",
        "- You can set up this distribution with a mean of 50 and get random numbers from it using a function called `exponential()` from the NumPy library. Here's an example that generates and prints 10 random numbers from this distribution:\n"
      ],
      "metadata": {
        "id": "ufYZWhchvNx_"
      }
    },
    {
      "cell_type": "code",
      "source": [
        "from numpy.random import exponential\n",
        "beta = 50\n",
        "n = 10\n",
        "sample = exponential(beta, n)\n",
        "print(sample)"
      ],
      "metadata": {
        "id": "BTiB_60-vFIq"
      },
      "execution_count": null,
      "outputs": []
    },
    {
      "cell_type": "markdown",
      "source": [
        "- Running this code will give you 10 random numbers following the defined distribution.\n",
        "\n",
        "- You can also use the `expon()` function from the SciPy library to define an exponential distribution and then calculate different properties like moments, PDF, CDF, and more. This example defines a range of observations between 50 and 70, calculates their probability and cumulative probability, and plots the results:"
      ],
      "metadata": {
        "id": "fB3jF-ljvUWz"
      }
    },
    {
      "cell_type": "code",
      "source": [
        "from scipy.stats import expon\n",
        "from matplotlib import pyplot\n",
        "beta = 50\n",
        "dist = expon(beta)\n",
        "values = [value for value in range(50, 70)]\n",
        "probabilities = [dist.pdf(value) for value in values]\n",
        "pyplot.plot(values, probabilities)\n",
        "pyplot.show()\n",
        "cprobs = [dist.cdf(value) for value in values]\n",
        "pyplot.plot(values, cprobs)\n",
        "pyplot.show()"
      ],
      "metadata": {
        "id": "GPhu0PAyvU57"
      },
      "execution_count": null,
      "outputs": []
    },
    {
      "cell_type": "markdown",
      "source": [
        "- The first plot will show a common shape for exponential probability distribution.\n",
        "\n",
        "- The second plot will show that after a certain point, you're likely to observe almost 100% of the expected values.\n",
        "\n",
        "- An important related distribution is the double exponential distribution, also known as the Laplace distribution.\n",
        "\n",
        "---\n",
        "\n"
      ],
      "metadata": {
        "id": "MwE_WlEfvWrc"
      }
    },
    {
      "cell_type": "markdown",
      "source": [
        "## Pareto Distribution\n",
        "\n",
        "- The Pareto distribution, also known as a power-law distribution, is a statistical concept named after Vilfredo Pareto. It is associated with the Pareto principle, often referred to as the 80/20 rule. This principle suggests that, for certain continuous random variables following a Pareto distribution, approximately 80% of the events originate from only 20% of the possible outcomes. In simpler terms, most events are concentrated within a small range of values.\n",
        "\n",
        "- This distribution is particularly relevant when examining events following a Pareto Type II distribution. Various domains exhibit events with Pareto-like characteristics, including:\n",
        "\n",
        "  - Household income distribution in a country.\n",
        "  - Total sales of books.\n",
        "  - Scores achieved by players on a sports team.\n",
        "\n",
        "### Key Parameter:\n",
        "\n",
        "- The Pareto distribution can be characterized by a single parameter:\n",
        "\n",
        "  - Shape (denoted as α or alpha): This parameter controls the steepness of the probability distribution. It often takes on small values, typically between 1 and 3. When alpha equals approximately 1.161, it aligns with the classic 80/20 rule.\n",
        "\n",
        "### Example: Generating Random Numbers from a Pareto Distribution\n",
        "\n",
        "- In this example, we'll define a Pareto distribution with a shape parameter (alpha) of 1.1 and generate a sample of random numbers from this distribution using the NumPy library.\n",
        "\n",
        "- Running this code will produce 10 random numbers sampled from the specified Pareto distribution.\n",
        "\n",
        "\n",
        "\n"
      ],
      "metadata": {
        "id": "u49iqpwNvrTA"
      }
    },
    {
      "cell_type": "code",
      "source": [
        "# Import the necessary library\n",
        "from numpy.random import pareto\n",
        "\n",
        "# Define the distribution parameters\n",
        "alpha = 1.1\n",
        "n = 10\n",
        "\n",
        "# Generate the sample\n",
        "sample = pareto(alpha, n)\n",
        "\n",
        "# Print the generated sample\n",
        "print(sample)"
      ],
      "metadata": {
        "id": "v_LfVRb8vazq"
      },
      "execution_count": null,
      "outputs": []
    },
    {
      "cell_type": "markdown",
      "source": [
        "- The following example demonstrates how to create a Pareto distribution using the SciPy library and calculate various properties, including the Probability Density Function (PDF) and the Cumulative Density Function (CDF). We'll also visualize these functions by plotting them."
      ],
      "metadata": {
        "id": "KfDrM7T1vSmA"
      }
    },
    {
      "cell_type": "code",
      "source": [
        "# Import necessary libraries\n",
        "from scipy.stats import pareto\n",
        "from matplotlib import pyplot\n",
        "\n",
        "# Define the distribution parameter\n",
        "alpha = 1.5\n",
        "\n",
        "# Create the distribution\n",
        "dist = pareto(alpha)\n",
        "\n",
        "# Define a range of values\n",
        "values = [value/10.0 for value in range(10, 100)]\n",
        "\n",
        "# Calculate and plot the PDF\n",
        "probabilities = [dist.pdf(value) for value in values]\n",
        "pyplot.plot(values, probabilities)\n",
        "pyplot.show()\n",
        "\n",
        "# Calculate and plot the CDF\n",
        "cprobs = [dist.cdf(value) for value in values]\n",
        "pyplot.plot(values, cprobs)\n",
        "pyplot.show()"
      ],
      "metadata": {
        "id": "5Kk1ZInZv8aj"
      },
      "execution_count": null,
      "outputs": []
    },
    {
      "cell_type": "markdown",
      "source": [
        "- This code plots both the PDF and CDF for the Pareto distribution, providing a visual representation of the distribution's characteristics.\n",
        "\n",
        "---\n",
        "\n"
      ],
      "metadata": {
        "id": "2NxUJ_frwEEQ"
      }
    },
    {
      "cell_type": "markdown",
      "source": [
        "## Further Reading\n",
        "\n",
        "**Books:**\n",
        "- [Chapter 2: Probability Distributions](https://amzn.to/2JwHE7I) from \"Pattern Recognition and Machine Learning\" (2006).\n",
        "- [Section 3.9: Common Probability Distributions](https://amzn.to/2lnc3vL) from \"Deep Learning\" (2016).\n",
        "- [Section 2.3: Some common discrete distributions](https://amzn.to/2xKSTCP) from \"Machine Learning: A Probabilistic Perspective\" (2012).\n",
        "\n",
        "**API:**\n",
        "- [Continuous Statistical Distributions](https://docs.scipy.org/doc/scipy/reference/tutorial/stats/continuous.html) from SciPy.\n",
        "- [Random sampling (numpy.random)](https://docs.scipy.org/doc/numpy/reference/routines.random.html) from NumPy.\n",
        "\n",
        "**Articles:**\n",
        "- [Normal distribution](https://en.wikipedia.org/wiki/Normal_distribution) on Wikipedia.\n",
        "- [68-95-99.7 rule](https://en.wikipedia.org/wiki/68%E2%80%9395%E2%80%9399.7_rule) on Wikipedia.\n",
        "- [Exponential distribution](https://en.wikipedia.org/wiki/Exponential_distribution) on Wikipedia.\n",
        "- [Pareto distribution](https://en.wikipedia.org/wiki/Pareto_distribution) on Wikipedia.\n",
        "\n",
        "\n",
        "---\n"
      ],
      "metadata": {
        "id": "rrpzsvEOwQDl"
      }
    },
    {
      "cell_type": "code",
      "source": [],
      "metadata": {
        "id": "XHqBthTCwE38"
      },
      "execution_count": null,
      "outputs": []
    }
  ]
}